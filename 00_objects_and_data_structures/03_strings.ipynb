{
 "cells": [
  {
   "cell_type": "markdown",
   "metadata": {},
   "source": [
    "## Part 3: Strings\n",
    "\n",
    "### Overview\n",
    "In this section, we will go over how Python handles string data types.\n",
    "\n",
    "### What is a string?\n",
    "* Strings are sequences of characters, using the syntax of either single quotes (`'`) or double quotes (`\"`):\n",
    "  + `'hello'`\n",
    "  + `\"hello\"`\n",
    "  + `\" I don't think so \"`\n",
    "* Strings are **ordered sequences** which means that we can use **indexing** and **slicing** to grab sub-sections of the string.\n",
    "* Indexing notation uses `[]` notation after the string (or variable assigned to the string).\n",
    "* Indexing allows you to grab a single character from the string...\n",
    "* These action use `[]` square brackets and a number index to indicate positions of what you wish to grab:\n",
    "\n",
    "```\n",
    "    Character:  h  e  l  l  o\n",
    "        Index:  0  1  2  3  4\n",
    "Reverse index:  0 -4 -3 -2 -1\n",
    "```\n",
    "* If you are coming from R, negative indexing can be weird, since that will **drop** elements from a vector, list, etc...\n",
    "* Slicing allows you to grab a subsection of multiple characters, a \"slice\" of the string.\n",
    "* This has the following syntax:\n",
    "  + `[start:stop:step]`\n",
    "  + `start` is a numerical index for the slice start\n",
    "  + `stop` is the index you will go up to (but not include)\n",
    "  + `step` is the size of the \"jump\" you take."
   ]
  },
  {
   "cell_type": "code",
   "execution_count": 1,
   "metadata": {},
   "outputs": [
    {
     "data": {
      "text/plain": [
       "'o'"
      ]
     },
     "execution_count": 1,
     "metadata": {},
     "output_type": "execute_result"
    }
   ],
   "source": [
    "food = \"burrito\"\n",
    "food[-1]"
   ]
  },
  {
   "cell_type": "code",
   "execution_count": 2,
   "metadata": {},
   "outputs": [
    {
     "data": {
      "text/plain": [
       "'This is also a string'"
      ]
     },
     "execution_count": 2,
     "metadata": {},
     "output_type": "execute_result"
    }
   ],
   "source": [
    "\"This is also a string\""
   ]
  },
  {
   "cell_type": "code",
   "execution_count": 3,
   "metadata": {},
   "outputs": [
    {
     "name": "stdout",
     "output_type": "stream",
     "text": [
      "burrito\n"
     ]
    }
   ],
   "source": [
    "print(food) # use the print function to PRINT the string!"
   ]
  },
  {
   "cell_type": "code",
   "execution_count": 4,
   "metadata": {},
   "outputs": [
    {
     "data": {
      "text/plain": [
       "'hello world two'"
      ]
     },
     "execution_count": 4,
     "metadata": {},
     "output_type": "execute_result"
    }
   ],
   "source": [
    "\"hello world one\"\n",
    "\"hello world two\""
   ]
  },
  {
   "cell_type": "code",
   "execution_count": 5,
   "metadata": {},
   "outputs": [
    {
     "name": "stdout",
     "output_type": "stream",
     "text": [
      "hello world one\n",
      "hello world two\n"
     ]
    }
   ],
   "source": [
    "print(\"hello world one\")\n",
    "print(\"hello world two\")"
   ]
  },
  {
   "cell_type": "code",
   "execution_count": 6,
   "metadata": {},
   "outputs": [
    {
     "name": "stdout",
     "output_type": "stream",
     "text": [
      "hello\n",
      "world\n"
     ]
    }
   ],
   "source": [
    "print(\"hello\\nworld\") # escape characters and new lines"
   ]
  },
  {
   "cell_type": "code",
   "execution_count": 7,
   "metadata": {},
   "outputs": [
    {
     "name": "stdout",
     "output_type": "stream",
     "text": [
      "hello\tworld\n"
     ]
    }
   ],
   "source": [
    "print(\"hello\\tworld\")"
   ]
  },
  {
   "cell_type": "code",
   "execution_count": 8,
   "metadata": {},
   "outputs": [
    {
     "data": {
      "text/plain": [
       "7"
      ]
     },
     "execution_count": 8,
     "metadata": {},
     "output_type": "execute_result"
    }
   ],
   "source": [
    "len(food) # get length of string"
   ]
  },
  {
   "cell_type": "code",
   "execution_count": 9,
   "metadata": {},
   "outputs": [
    {
     "data": {
      "text/plain": [
       "11"
      ]
     },
     "execution_count": 9,
     "metadata": {},
     "output_type": "execute_result"
    }
   ],
   "source": [
    "len(\"I am hungry\")"
   ]
  }
 ],
 "metadata": {
  "kernelspec": {
   "display_name": "Python 3",
   "language": "python",
   "name": "python3"
  },
  "language_info": {
   "codemirror_mode": {
    "name": "ipython",
    "version": 3
   },
   "file_extension": ".py",
   "mimetype": "text/x-python",
   "name": "python",
   "nbconvert_exporter": "python",
   "pygments_lexer": "ipython3",
   "version": "3.7.7"
  }
 },
 "nbformat": 4,
 "nbformat_minor": 4
}
